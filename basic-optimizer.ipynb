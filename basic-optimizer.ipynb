{
  "nbformat": 4,
  "nbformat_minor": 0,
  "metadata": {
    "colab": {
      "provenance": []
    },
    "kernelspec": {
      "name": "python3",
      "display_name": "Python 3"
    },
    "language_info": {
      "name": "python"
    }
  },
  "cells": [
    {
      "cell_type": "code",
      "source": [
        "import numpy as np\n",
        "import matplotlib.pyplot as plt\n",
        "\n",
        "np.random.seed(42)\n",
        "X = 2 * np.random.rand(100,1)\n",
        "y = 4 + 3 * X + np.random.randn(100,1)\n",
        "X_b = np.c_[np.ones((100,1)),X]\n",
        "\n",
        "\n",
        "print(X_b)"
      ],
      "metadata": {
        "colab": {
          "base_uri": "https://localhost:8080/"
        },
        "id": "4sv5AwjqtZ3m",
        "outputId": "e93bc7ea-9bb7-462b-be29-4b7de60a3d91"
      },
      "execution_count": 5,
      "outputs": [
        {
          "output_type": "stream",
          "name": "stdout",
          "text": [
            "[[1.         0.74908024]\n",
            " [1.         1.90142861]\n",
            " [1.         1.46398788]\n",
            " [1.         1.19731697]\n",
            " [1.         0.31203728]\n",
            " [1.         0.31198904]\n",
            " [1.         0.11616722]\n",
            " [1.         1.73235229]\n",
            " [1.         1.20223002]\n",
            " [1.         1.41614516]\n",
            " [1.         0.04116899]\n",
            " [1.         1.9398197 ]\n",
            " [1.         1.66488528]\n",
            " [1.         0.42467822]\n",
            " [1.         0.36364993]\n",
            " [1.         0.36680902]\n",
            " [1.         0.60848449]\n",
            " [1.         1.04951286]\n",
            " [1.         0.86389004]\n",
            " [1.         0.58245828]\n",
            " [1.         1.22370579]\n",
            " [1.         0.27898772]\n",
            " [1.         0.5842893 ]\n",
            " [1.         0.73272369]\n",
            " [1.         0.91213997]\n",
            " [1.         1.57035192]\n",
            " [1.         0.39934756]\n",
            " [1.         1.02846888]\n",
            " [1.         1.18482914]\n",
            " [1.         0.09290083]\n",
            " [1.         1.2150897 ]\n",
            " [1.         0.34104825]\n",
            " [1.         0.13010319]\n",
            " [1.         1.89777107]\n",
            " [1.         1.93126407]\n",
            " [1.         1.6167947 ]\n",
            " [1.         0.60922754]\n",
            " [1.         0.19534423]\n",
            " [1.         1.36846605]\n",
            " [1.         0.88030499]\n",
            " [1.         0.24407647]\n",
            " [1.         0.99035382]\n",
            " [1.         0.06877704]\n",
            " [1.         1.8186408 ]\n",
            " [1.         0.51755996]\n",
            " [1.         1.32504457]\n",
            " [1.         0.62342215]\n",
            " [1.         1.04013604]\n",
            " [1.         1.09342056]\n",
            " [1.         0.36970891]\n",
            " [1.         1.93916926]\n",
            " [1.         1.55026565]\n",
            " [1.         1.87899788]\n",
            " [1.         1.7896547 ]\n",
            " [1.         1.19579996]\n",
            " [1.         1.84374847]\n",
            " [1.         0.176985  ]\n",
            " [1.         0.39196572]\n",
            " [1.         0.09045458]\n",
            " [1.         0.65066066]\n",
            " [1.         0.77735458]\n",
            " [1.         0.54269806]\n",
            " [1.         1.65747502]\n",
            " [1.         0.71350665]\n",
            " [1.         0.56186902]\n",
            " [1.         1.08539217]\n",
            " [1.         0.28184845]\n",
            " [1.         1.60439396]\n",
            " [1.         0.14910129]\n",
            " [1.         1.97377387]\n",
            " [1.         1.54448954]\n",
            " [1.         0.39743136]\n",
            " [1.         0.01104423]\n",
            " [1.         1.63092286]\n",
            " [1.         1.41371469]\n",
            " [1.         1.45801434]\n",
            " [1.         1.54254069]\n",
            " [1.         0.1480893 ]\n",
            " [1.         0.71693146]\n",
            " [1.         0.23173812]\n",
            " [1.         1.72620685]\n",
            " [1.         1.24659625]\n",
            " [1.         0.66179605]\n",
            " [1.         0.1271167 ]\n",
            " [1.         0.62196464]\n",
            " [1.         0.65036664]\n",
            " [1.         1.45921236]\n",
            " [1.         1.27511494]\n",
            " [1.         1.77442549]\n",
            " [1.         0.94442985]\n",
            " [1.         0.23918849]\n",
            " [1.         1.42648957]\n",
            " [1.         1.5215701 ]\n",
            " [1.         1.1225544 ]\n",
            " [1.         1.54193436]\n",
            " [1.         0.98759119]\n",
            " [1.         1.04546566]\n",
            " [1.         0.85508204]\n",
            " [1.         0.05083825]\n",
            " [1.         0.21578285]]\n"
          ]
        }
      ]
    },
    {
      "cell_type": "code",
      "source": [
        "def batch_GD(X,y,alpha = 0.1, epochs = 1000):\n",
        "  m = len(y)\n",
        "  theta = np.random.randn(2,1)\n",
        "  print(theta)\n",
        "  for iteration in range(epochs):\n",
        "    gradients = (2/m) * X_b.T.dot(X_b.dot(theta) - y)\n",
        "    theta = theta - alpha * gradients\n",
        "  return theta\n",
        "\n",
        "theta_bgd = batch_GD(X,y)\n",
        "print(\"Batch Gradient Descent: \",theta_bgd)"
      ],
      "metadata": {
        "colab": {
          "base_uri": "https://localhost:8080/"
        },
        "id": "WttBnY3TvtYQ",
        "outputId": "d007a339-f851-4eb8-c9ec-e6618ce724b6"
      },
      "execution_count": 6,
      "outputs": [
        {
          "output_type": "stream",
          "name": "stdout",
          "text": [
            "[[0.01300189]\n",
            " [1.45353408]]\n",
            "Batch Gradient Descent:  [[4.21509616]\n",
            " [2.77011339]]\n"
          ]
        }
      ]
    },
    {
      "cell_type": "code",
      "source": [
        "def stochastic_GD(X,y,alpha = 0.1, epochs = 1000):\n",
        "  m = len(y)\n",
        "  theta = np.random.randn(2,1)\n",
        "  print(theta)\n",
        "  for epoch in range(epochs):\n",
        "    for i in range(m):\n",
        "      random_index = np.random.randint(m)\n",
        "      xi = X_b[random_index:random_index+1]\n",
        "      yi = y[random_index:random_index+1]\n",
        "      gradients = 2 * xi.T.dot(xi.dot(theta) - yi)\n",
        "      theta = theta - alpha * gradients\n",
        "  return theta\n",
        "\n",
        "theta_sgd = stochastic_GD(X,y)\n",
        "print(\"Stochastic Gradient Descent: \",theta_sgd)"
      ],
      "metadata": {
        "colab": {
          "base_uri": "https://localhost:8080/"
        },
        "id": "gxGKQdVWvtzj",
        "outputId": "45a225b7-0fd1-4b2d-d3f2-3e977b8074b6"
      },
      "execution_count": 7,
      "outputs": [
        {
          "output_type": "stream",
          "name": "stdout",
          "text": [
            "[[-0.26465683]\n",
            " [ 2.72016917]]\n",
            "Stochastic Gradient Descent:  [[3.6200518 ]\n",
            " [2.46679312]]\n"
          ]
        }
      ]
    },
    {
      "cell_type": "code",
      "source": [
        "def miniB_GD(X,y,alpha = 0.1, epochs = 1000, batch =20):\n",
        "  m = len(y)\n",
        "  theta = np.random.randn(2,1)\n",
        "  print(theta)\n",
        "  for epoch in range(epochs):\n",
        "    shuffled_indices = np.random.permutation(m)\n",
        "    X_shuffled = X_b[shuffled_indices]\n",
        "    y_shuffled = y[shuffled_indices]\n",
        "    for i in range(0,m,batch):\n",
        "      xi = X_shuffled[i:i+batch]\n",
        "      yi = y_shuffled[i:i+batch]\n",
        "      gradients = (2/len(xi)) * xi.T.dot(xi.dot(theta) - yi)\n",
        "      theta = theta - alpha * gradients\n",
        "  return theta\n",
        "\n",
        "theta_mbgd = miniB_GD(X,y)\n",
        "print(\"Mini Batch Gradient Descent: \",theta_mbgd)"
      ],
      "metadata": {
        "colab": {
          "base_uri": "https://localhost:8080/"
        },
        "id": "W98a0fIGxduW",
        "outputId": "3e178f88-ab19-4e98-dc32-6dc156d2addf"
      },
      "execution_count": 8,
      "outputs": [
        {
          "output_type": "stream",
          "name": "stdout",
          "text": [
            "[[-0.68826618]\n",
            " [ 0.18328872]]\n",
            "Mini Batch Gradient Descent:  [[4.20311044]\n",
            " [2.75757629]]\n"
          ]
        }
      ]
    },
    {
      "cell_type": "code",
      "source": [
        "def plot_GD(X,y,theta_bgd,thetha_sgd,theta_mbgd):\n",
        "  plt.plot(X,y,\"b.\")\n",
        "  X_new = np.array([[0],[2]])\n",
        "  X_new_b = np.c_[np.ones((2,1)),X_new]\n",
        "  print(X_new)\n",
        "\n",
        "  y_predict_bgd = X_new_b.dot(theta_bgd)\n",
        "  y_predict_sgd = X_new_b.dot(theta_sgd)\n",
        "  y_predict_mbgd = X_new_b.dot(theta_mbgd)\n",
        "\n",
        "  plt.plot(X_new,y_predict_bgd,\"r-\",label=\"Batch Gradient Descent\")\n",
        "  plt.plot(X_new,y_predict_sgd,\"g-\",label=\"Stochastic Gradient Descent\")\n",
        "  plt.plot(X_new,y_predict_mbgd,\"y-\",label=\"Mini Batch Gradient Descent\")\n",
        "  plt.xlabel(\"$x_1$\")\n",
        "  plt.ylabel(\"$y$\")\n",
        "  plt.legend(loc = \"upper left\")\n",
        "  plt.title(\"Gradient Descent Comparison\")\n",
        "  plt.show()\n",
        "\n",
        "plot_GD(X,y,theta_bgd,theta_sgd,theta_mbgd)"
      ],
      "metadata": {
        "colab": {
          "base_uri": "https://localhost:8080/",
          "height": 508
        },
        "id": "pjBHZBjjxfaj",
        "outputId": "35683a83-e977-47a6-d219-32a094c78a9e"
      },
      "execution_count": 9,
      "outputs": [
        {
          "output_type": "stream",
          "name": "stdout",
          "text": [
            "[[0]\n",
            " [2]]\n"
          ]
        },
        {
          "output_type": "display_data",
          "data": {
            "text/plain": [
              "<Figure size 640x480 with 1 Axes>"
            ],
            "image/png": "[encoded data removed]"
          },
          "metadata": {}
        }
      ]
    },
    {
      "cell_type": "code",
      "source": [],
      "metadata": {
        "id": "FXNUquPWxhuY"
      },
      "execution_count": null,
      "outputs": []
    }
  ]
}